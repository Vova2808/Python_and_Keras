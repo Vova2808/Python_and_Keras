{
  "nbformat": 4,
  "nbformat_minor": 0,
  "metadata": {
    "colab": {
      "provenance": []
    },
    "kernelspec": {
      "name": "python3",
      "display_name": "Python 3"
    },
    "language_info": {
      "name": "python"
    }
  },
  "cells": [
    {
      "cell_type": "markdown",
      "source": [
        "**Устанавливаем библиотеки**"
      ],
      "metadata": {
        "id": "wlKdmhaSEYOT"
      }
    },
    {
      "cell_type": "code",
      "execution_count": 1,
      "metadata": {
        "colab": {
          "base_uri": "https://localhost:8080/"
        },
        "id": "zKhSRXp5DDzx",
        "outputId": "1612b7f2-69f1-494d-b5c3-534aa6e2b47f"
      },
      "outputs": [
        {
          "output_type": "stream",
          "name": "stdout",
          "text": [
            "Requirement already satisfied: matplotlib in /usr/local/lib/python3.10/dist-packages (3.7.1)\n",
            "Requirement already satisfied: contourpy>=1.0.1 in /usr/local/lib/python3.10/dist-packages (from matplotlib) (1.2.0)\n",
            "Requirement already satisfied: cycler>=0.10 in /usr/local/lib/python3.10/dist-packages (from matplotlib) (0.12.1)\n",
            "Requirement already satisfied: fonttools>=4.22.0 in /usr/local/lib/python3.10/dist-packages (from matplotlib) (4.50.0)\n",
            "Requirement already satisfied: kiwisolver>=1.0.1 in /usr/local/lib/python3.10/dist-packages (from matplotlib) (1.4.5)\n",
            "Requirement already satisfied: numpy>=1.20 in /usr/local/lib/python3.10/dist-packages (from matplotlib) (1.25.2)\n",
            "Requirement already satisfied: packaging>=20.0 in /usr/local/lib/python3.10/dist-packages (from matplotlib) (24.0)\n",
            "Requirement already satisfied: pillow>=6.2.0 in /usr/local/lib/python3.10/dist-packages (from matplotlib) (9.4.0)\n",
            "Requirement already satisfied: pyparsing>=2.3.1 in /usr/local/lib/python3.10/dist-packages (from matplotlib) (3.1.2)\n",
            "Requirement already satisfied: python-dateutil>=2.7 in /usr/local/lib/python3.10/dist-packages (from matplotlib) (2.8.2)\n",
            "Requirement already satisfied: six>=1.5 in /usr/local/lib/python3.10/dist-packages (from python-dateutil>=2.7->matplotlib) (1.16.0)\n",
            "Collecting sklearn\n",
            "  Downloading sklearn-0.0.post12.tar.gz (2.6 kB)\n",
            "  \u001b[1;31merror\u001b[0m: \u001b[1msubprocess-exited-with-error\u001b[0m\n",
            "  \n",
            "  \u001b[31m×\u001b[0m \u001b[32mpython setup.py egg_info\u001b[0m did not run successfully.\n",
            "  \u001b[31m│\u001b[0m exit code: \u001b[1;36m1\u001b[0m\n",
            "  \u001b[31m╰─>\u001b[0m See above for output.\n",
            "  \n",
            "  \u001b[1;35mnote\u001b[0m: This error originates from a subprocess, and is likely not a problem with pip.\n",
            "  Preparing metadata (setup.py) ... \u001b[?25l\u001b[?25herror\n",
            "\u001b[1;31merror\u001b[0m: \u001b[1mmetadata-generation-failed\u001b[0m\n",
            "\n",
            "\u001b[31m×\u001b[0m Encountered error while generating package metadata.\n",
            "\u001b[31m╰─>\u001b[0m See above for output.\n",
            "\n",
            "\u001b[1;35mnote\u001b[0m: This is an issue with the package mentioned above, not pip.\n",
            "\u001b[1;36mhint\u001b[0m: See above for details.\n",
            "Requirement already satisfied: tensorflow in /usr/local/lib/python3.10/dist-packages (2.15.0)\n",
            "Requirement already satisfied: absl-py>=1.0.0 in /usr/local/lib/python3.10/dist-packages (from tensorflow) (1.4.0)\n",
            "Requirement already satisfied: astunparse>=1.6.0 in /usr/local/lib/python3.10/dist-packages (from tensorflow) (1.6.3)\n",
            "Requirement already satisfied: flatbuffers>=23.5.26 in /usr/local/lib/python3.10/dist-packages (from tensorflow) (24.3.25)\n",
            "Requirement already satisfied: gast!=0.5.0,!=0.5.1,!=0.5.2,>=0.2.1 in /usr/local/lib/python3.10/dist-packages (from tensorflow) (0.5.4)\n",
            "Requirement already satisfied: google-pasta>=0.1.1 in /usr/local/lib/python3.10/dist-packages (from tensorflow) (0.2.0)\n",
            "Requirement already satisfied: h5py>=2.9.0 in /usr/local/lib/python3.10/dist-packages (from tensorflow) (3.9.0)\n",
            "Requirement already satisfied: libclang>=13.0.0 in /usr/local/lib/python3.10/dist-packages (from tensorflow) (18.1.1)\n",
            "Requirement already satisfied: ml-dtypes~=0.2.0 in /usr/local/lib/python3.10/dist-packages (from tensorflow) (0.2.0)\n",
            "Requirement already satisfied: numpy<2.0.0,>=1.23.5 in /usr/local/lib/python3.10/dist-packages (from tensorflow) (1.25.2)\n",
            "Requirement already satisfied: opt-einsum>=2.3.2 in /usr/local/lib/python3.10/dist-packages (from tensorflow) (3.3.0)\n",
            "Requirement already satisfied: packaging in /usr/local/lib/python3.10/dist-packages (from tensorflow) (24.0)\n",
            "Requirement already satisfied: protobuf!=4.21.0,!=4.21.1,!=4.21.2,!=4.21.3,!=4.21.4,!=4.21.5,<5.0.0dev,>=3.20.3 in /usr/local/lib/python3.10/dist-packages (from tensorflow) (3.20.3)\n",
            "Requirement already satisfied: setuptools in /usr/local/lib/python3.10/dist-packages (from tensorflow) (67.7.2)\n",
            "Requirement already satisfied: six>=1.12.0 in /usr/local/lib/python3.10/dist-packages (from tensorflow) (1.16.0)\n",
            "Requirement already satisfied: termcolor>=1.1.0 in /usr/local/lib/python3.10/dist-packages (from tensorflow) (2.4.0)\n",
            "Requirement already satisfied: typing-extensions>=3.6.6 in /usr/local/lib/python3.10/dist-packages (from tensorflow) (4.10.0)\n",
            "Requirement already satisfied: wrapt<1.15,>=1.11.0 in /usr/local/lib/python3.10/dist-packages (from tensorflow) (1.14.1)\n",
            "Requirement already satisfied: tensorflow-io-gcs-filesystem>=0.23.1 in /usr/local/lib/python3.10/dist-packages (from tensorflow) (0.36.0)\n",
            "Requirement already satisfied: grpcio<2.0,>=1.24.3 in /usr/local/lib/python3.10/dist-packages (from tensorflow) (1.62.1)\n",
            "Requirement already satisfied: tensorboard<2.16,>=2.15 in /usr/local/lib/python3.10/dist-packages (from tensorflow) (2.15.2)\n",
            "Requirement already satisfied: tensorflow-estimator<2.16,>=2.15.0 in /usr/local/lib/python3.10/dist-packages (from tensorflow) (2.15.0)\n",
            "Requirement already satisfied: keras<2.16,>=2.15.0 in /usr/local/lib/python3.10/dist-packages (from tensorflow) (2.15.0)\n",
            "Requirement already satisfied: wheel<1.0,>=0.23.0 in /usr/local/lib/python3.10/dist-packages (from astunparse>=1.6.0->tensorflow) (0.43.0)\n",
            "Requirement already satisfied: google-auth<3,>=1.6.3 in /usr/local/lib/python3.10/dist-packages (from tensorboard<2.16,>=2.15->tensorflow) (2.27.0)\n",
            "Requirement already satisfied: google-auth-oauthlib<2,>=0.5 in /usr/local/lib/python3.10/dist-packages (from tensorboard<2.16,>=2.15->tensorflow) (1.2.0)\n",
            "Requirement already satisfied: markdown>=2.6.8 in /usr/local/lib/python3.10/dist-packages (from tensorboard<2.16,>=2.15->tensorflow) (3.6)\n",
            "Requirement already satisfied: requests<3,>=2.21.0 in /usr/local/lib/python3.10/dist-packages (from tensorboard<2.16,>=2.15->tensorflow) (2.31.0)\n",
            "Requirement already satisfied: tensorboard-data-server<0.8.0,>=0.7.0 in /usr/local/lib/python3.10/dist-packages (from tensorboard<2.16,>=2.15->tensorflow) (0.7.2)\n",
            "Requirement already satisfied: werkzeug>=1.0.1 in /usr/local/lib/python3.10/dist-packages (from tensorboard<2.16,>=2.15->tensorflow) (3.0.2)\n",
            "Requirement already satisfied: cachetools<6.0,>=2.0.0 in /usr/local/lib/python3.10/dist-packages (from google-auth<3,>=1.6.3->tensorboard<2.16,>=2.15->tensorflow) (5.3.3)\n",
            "Requirement already satisfied: pyasn1-modules>=0.2.1 in /usr/local/lib/python3.10/dist-packages (from google-auth<3,>=1.6.3->tensorboard<2.16,>=2.15->tensorflow) (0.4.0)\n",
            "Requirement already satisfied: rsa<5,>=3.1.4 in /usr/local/lib/python3.10/dist-packages (from google-auth<3,>=1.6.3->tensorboard<2.16,>=2.15->tensorflow) (4.9)\n",
            "Requirement already satisfied: requests-oauthlib>=0.7.0 in /usr/local/lib/python3.10/dist-packages (from google-auth-oauthlib<2,>=0.5->tensorboard<2.16,>=2.15->tensorflow) (1.3.1)\n",
            "Requirement already satisfied: charset-normalizer<4,>=2 in /usr/local/lib/python3.10/dist-packages (from requests<3,>=2.21.0->tensorboard<2.16,>=2.15->tensorflow) (3.3.2)\n",
            "Requirement already satisfied: idna<4,>=2.5 in /usr/local/lib/python3.10/dist-packages (from requests<3,>=2.21.0->tensorboard<2.16,>=2.15->tensorflow) (3.6)\n",
            "Requirement already satisfied: urllib3<3,>=1.21.1 in /usr/local/lib/python3.10/dist-packages (from requests<3,>=2.21.0->tensorboard<2.16,>=2.15->tensorflow) (2.0.7)\n",
            "Requirement already satisfied: certifi>=2017.4.17 in /usr/local/lib/python3.10/dist-packages (from requests<3,>=2.21.0->tensorboard<2.16,>=2.15->tensorflow) (2024.2.2)\n",
            "Requirement already satisfied: MarkupSafe>=2.1.1 in /usr/local/lib/python3.10/dist-packages (from werkzeug>=1.0.1->tensorboard<2.16,>=2.15->tensorflow) (2.1.5)\n",
            "Requirement already satisfied: pyasn1<0.7.0,>=0.4.6 in /usr/local/lib/python3.10/dist-packages (from pyasn1-modules>=0.2.1->google-auth<3,>=1.6.3->tensorboard<2.16,>=2.15->tensorflow) (0.6.0)\n",
            "Requirement already satisfied: oauthlib>=3.0.0 in /usr/local/lib/python3.10/dist-packages (from requests-oauthlib>=0.7.0->google-auth-oauthlib<2,>=0.5->tensorboard<2.16,>=2.15->tensorflow) (3.2.2)\n"
          ]
        }
      ],
      "source": [
        "!pip install matplotlib\n",
        "!pip install sklearn\n",
        "!pip install tensorflow"
      ]
    },
    {
      "cell_type": "markdown",
      "source": [
        "**Импортируем это всё**"
      ],
      "metadata": {
        "id": "3st0s86GEgLS"
      }
    },
    {
      "cell_type": "code",
      "source": [
        "import numpy as np\n",
        "import matplotlib.pyplot as plt\n",
        "import gzip\n",
        "from typing import List\n",
        "from sklearn.preprocessing import OneHotEncoder\n",
        "import tensorflow.keras as keras\n",
        "from sklearn.model_selection import train_test_split\n",
        "from sklearn.metrics import confusion_matrix\n",
        "import itertools\n",
        "%matplotlib inline"
      ],
      "metadata": {
        "id": "62NLVkiADGOa"
      },
      "execution_count": 2,
      "outputs": []
    },
    {
      "cell_type": "markdown",
      "source": [
        "**Устанавливаем набор данных**"
      ],
      "metadata": {
        "id": "M1sQeZcoEk3X"
      }
    },
    {
      "cell_type": "code",
      "source": [
        "%%bash\n",
        "\n",
        "rm -Rf train-images-idx3-ubyte.gz\n",
        "rm -Rf train-labels-idx1-ubyte.gz\n",
        "wget -q http://yann.lecun.com/exdb/mnist/train-images-idx3-ubyte.gz\n",
        "wget -q http://yann.lecun.com/exdb/mnist/train-labels-idx1-ubyte.gz"
      ],
      "metadata": {
        "id": "bgGXBpdXDJlk"
      },
      "execution_count": 3,
      "outputs": []
    },
    {
      "cell_type": "code",
      "source": [
        "with gzip.open('train-labels-idx1-ubyte.gz') as train_labels:\n",
        "    data_from_train_file = train_labels.read()\n",
        "\n",
        "# Пропускаем первые 8 байт\n",
        "label_data = data_from_train_file[8:]\n",
        "assert len(label_data) == 60000\n",
        "\n",
        "# Конвертируем каждый байт в целое число.\n",
        "# Это будет число от 0 до 9\n",
        "labels = [int(label_byte) for label_byte in label_data]\n",
        "assert min(labels) == 0 and max(labels) == 9\n",
        "assert len(labels) == 60000"
      ],
      "metadata": {
        "id": "_tH1jAPpDWaz"
      },
      "execution_count": 4,
      "outputs": []
    },
    {
      "cell_type": "code",
      "source": [
        "SIZE_OF_ONE_IMAGE = 28 ** 2\n",
        "images = []\n",
        "\n",
        "# Перебор тренировочного файла и читение одного изображения за раз\n",
        "with gzip.open('train-images-idx3-ubyte.gz') as train_images:\n",
        "    train_images.read(4 * 4)\n",
        "    ctr = 0\n",
        "    for _ in range(60000):\n",
        "        image = train_images.read(size=SIZE_OF_ONE_IMAGE)\n",
        "        assert len(image) == SIZE_OF_ONE_IMAGE\n",
        "\n",
        "        # Конвертировать в NumPy\n",
        "        image_np = np.frombuffer(image, dtype='uint8') / 255\n",
        "        images.append(image_np)\n",
        "\n",
        "images = np.array(images)\n",
        "images.shape"
      ],
      "metadata": {
        "colab": {
          "base_uri": "https://localhost:8080/"
        },
        "id": "popL08SxDdUF",
        "outputId": "997e7261-3d51-4d99-f0e5-65086b1ddc67"
      },
      "execution_count": 5,
      "outputs": [
        {
          "output_type": "execute_result",
          "data": {
            "text/plain": [
              "(60000, 784)"
            ]
          },
          "metadata": {},
          "execution_count": 5
        }
      ]
    },
    {
      "cell_type": "code",
      "source": [
        "def plot_image(pixels: np.array):\n",
        "    plt.imshow(pixels.reshape((28, 28)), cmap='gray')\n",
        "    plt.show()\n",
        "\n",
        "plot_image(images[25])"
      ],
      "metadata": {
        "colab": {
          "base_uri": "https://localhost:8080/",
          "height": 430
        },
        "id": "gceHe1TvDfdn",
        "outputId": "02e16f05-782f-4ad7-eab8-b96880f6b3e6"
      },
      "execution_count": 9,
      "outputs": [
        {
          "output_type": "display_data",
          "data": {
            "text/plain": [
              "<Figure size 640x480 with 1 Axes>"
            ],
            "image/png": "[encoded data removed]"
          },
          "metadata": {}
        }
      ]
    },
    {
      "cell_type": "markdown",
      "source": [
        "**Кодирование меток изображения с помощью One-hot encoding**"
      ],
      "metadata": {
        "id": "8UxbDIibM7U1"
      }
    },
    {
      "cell_type": "code",
      "source": [
        "labels_np = np.array(labels).reshape((-1, 1))\n",
        "\n",
        "encoder = OneHotEncoder(categories='auto')\n",
        "labels_np_onehot = encoder.fit_transform(labels_np).toarray()\n",
        "\n",
        "labels_np_onehot"
      ],
      "metadata": {
        "colab": {
          "base_uri": "https://localhost:8080/"
        },
        "id": "WPwOFb2rDip7",
        "outputId": "48ec8b28-2c2f-4be3-dc9d-e1d33381187d"
      },
      "execution_count": 10,
      "outputs": [
        {
          "output_type": "execute_result",
          "data": {
            "text/plain": [
              "array([[0., 0., 0., ..., 0., 0., 0.],\n",
              "       [1., 0., 0., ..., 0., 0., 0.],\n",
              "       [0., 0., 0., ..., 0., 0., 0.],\n",
              "       ...,\n",
              "       [0., 0., 0., ..., 0., 0., 0.],\n",
              "       [0., 0., 0., ..., 0., 0., 0.],\n",
              "       [0., 0., 0., ..., 0., 1., 0.]])"
            ]
          },
          "metadata": {},
          "execution_count": 10
        }
      ]
    },
    {
      "cell_type": "code",
      "source": [
        "labels_np_onehot[999]"
      ],
      "metadata": {
        "colab": {
          "base_uri": "https://localhost:8080/"
        },
        "id": "NTaK2KD0DpSt",
        "outputId": "99d12146-8c48-4990-9283-74b2a3fc8f99"
      },
      "execution_count": 11,
      "outputs": [
        {
          "output_type": "execute_result",
          "data": {
            "text/plain": [
              "array([0., 0., 0., 0., 0., 0., 1., 0., 0., 0.])"
            ]
          },
          "metadata": {},
          "execution_count": 11
        }
      ]
    },
    {
      "cell_type": "markdown",
      "source": [
        "**Разделение датасета на тренировочный и тестовый**"
      ],
      "metadata": {
        "id": "wGCWQxW_NEit"
      }
    },
    {
      "cell_type": "code",
      "source": [
        "X_train, X_test, y_train, y_test = train_test_split(images, labels_np_onehot)\n",
        "print(y_train.shape)\n",
        "print(y_test.shape)"
      ],
      "metadata": {
        "colab": {
          "base_uri": "https://localhost:8080/"
        },
        "id": "AIPqgHmWDrrt",
        "outputId": "cd66d618-e3eb-4257-a418-2909bf0a71b2"
      },
      "execution_count": 12,
      "outputs": [
        {
          "output_type": "stream",
          "name": "stdout",
          "text": [
            "(45000, 10)\n",
            "(15000, 10)\n"
          ]
        }
      ]
    },
    {
      "cell_type": "markdown",
      "source": [
        "**Тренировка нейронной сети с помощью Keras**"
      ],
      "metadata": {
        "id": "t-yQpO8LNKTR"
      }
    },
    {
      "cell_type": "code",
      "source": [
        "model = keras.Sequential()\n",
        "model.add(keras.layers.Dense(input_shape=(SIZE_OF_ONE_IMAGE,), units=128, activation='relu'))\n",
        "model.add(keras.layers.Dense(10, activation='softmax'))\n",
        "\n",
        "model.summary()\n",
        "\n",
        "model.compile(optimizer='sgd',\n",
        "              loss='categorical_crossentropy',\n",
        "              metrics=['accuracy'])"
      ],
      "metadata": {
        "colab": {
          "base_uri": "https://localhost:8080/"
        },
        "id": "zkw7grtpDuK1",
        "outputId": "8ef42f2c-7218-4c12-bdb5-cd30ec437b78"
      },
      "execution_count": 13,
      "outputs": [
        {
          "output_type": "stream",
          "name": "stdout",
          "text": [
            "Model: \"sequential\"\n",
            "_________________________________________________________________\n",
            " Layer (type)                Output Shape              Param #   \n",
            "=================================================================\n",
            " dense (Dense)               (None, 128)               100480    \n",
            "                                                                 \n",
            " dense_1 (Dense)             (None, 10)                1290      \n",
            "                                                                 \n",
            "=================================================================\n",
            "Total params: 101770 (397.54 KB)\n",
            "Trainable params: 101770 (397.54 KB)\n",
            "Non-trainable params: 0 (0.00 Byte)\n",
            "_________________________________________________________________\n"
          ]
        }
      ]
    },
    {
      "cell_type": "markdown",
      "source": [
        "**Обучение нейронной сети**"
      ],
      "metadata": {
        "id": "Qurs7gitNSZw"
      }
    },
    {
      "cell_type": "code",
      "source": [
        "model.fit(X_train, y_train, epochs=20, batch_size=128)"
      ],
      "metadata": {
        "colab": {
          "base_uri": "https://localhost:8080/"
        },
        "id": "WkEbyzfzDxId",
        "outputId": "1cf6a369-bc80-44dc-edd6-bf61b33830b0"
      },
      "execution_count": 14,
      "outputs": [
        {
          "output_type": "stream",
          "name": "stdout",
          "text": [
            "Epoch 1/20\n",
            "352/352 [==============================] - 3s 7ms/step - loss: 1.3753 - accuracy: 0.6588\n",
            "Epoch 2/20\n",
            "352/352 [==============================] - 2s 5ms/step - loss: 0.6585 - accuracy: 0.8453\n",
            "Epoch 3/20\n",
            "352/352 [==============================] - 1s 4ms/step - loss: 0.5029 - accuracy: 0.8704\n",
            "Epoch 4/20\n",
            "352/352 [==============================] - 1s 4ms/step - loss: 0.4374 - accuracy: 0.8836\n",
            "Epoch 5/20\n",
            "352/352 [==============================] - 1s 4ms/step - loss: 0.4002 - accuracy: 0.8903\n",
            "Epoch 6/20\n",
            "352/352 [==============================] - 2s 7ms/step - loss: 0.3754 - accuracy: 0.8958\n",
            "Epoch 7/20\n",
            "352/352 [==============================] - 2s 5ms/step - loss: 0.3570 - accuracy: 0.9003\n",
            "Epoch 8/20\n",
            "352/352 [==============================] - 2s 5ms/step - loss: 0.3425 - accuracy: 0.9038\n",
            "Epoch 9/20\n",
            "352/352 [==============================] - 1s 4ms/step - loss: 0.3306 - accuracy: 0.9070\n",
            "Epoch 10/20\n",
            "352/352 [==============================] - 1s 4ms/step - loss: 0.3206 - accuracy: 0.9097\n",
            "Epoch 11/20\n",
            "352/352 [==============================] - 1s 4ms/step - loss: 0.3117 - accuracy: 0.9120\n",
            "Epoch 12/20\n",
            "352/352 [==============================] - 1s 4ms/step - loss: 0.3037 - accuracy: 0.9143\n",
            "Epoch 13/20\n",
            "352/352 [==============================] - 1s 3ms/step - loss: 0.2965 - accuracy: 0.9162\n",
            "Epoch 14/20\n",
            "352/352 [==============================] - 2s 6ms/step - loss: 0.2899 - accuracy: 0.9180\n",
            "Epoch 15/20\n",
            "352/352 [==============================] - 2s 4ms/step - loss: 0.2835 - accuracy: 0.9197\n",
            "Epoch 16/20\n",
            "352/352 [==============================] - 1s 4ms/step - loss: 0.2778 - accuracy: 0.9215\n",
            "Epoch 17/20\n",
            "352/352 [==============================] - 1s 4ms/step - loss: 0.2723 - accuracy: 0.9230\n",
            "Epoch 18/20\n",
            "352/352 [==============================] - 1s 4ms/step - loss: 0.2671 - accuracy: 0.9244\n",
            "Epoch 19/20\n",
            "352/352 [==============================] - 1s 4ms/step - loss: 0.2621 - accuracy: 0.9261\n",
            "Epoch 20/20\n",
            "352/352 [==============================] - 1s 4ms/step - loss: 0.2573 - accuracy: 0.9271\n"
          ]
        },
        {
          "output_type": "execute_result",
          "data": {
            "text/plain": [
              "<keras.src.callbacks.History at 0x7bae35c87bb0>"
            ]
          },
          "metadata": {},
          "execution_count": 14
        }
      ]
    },
    {
      "cell_type": "code",
      "source": [
        "model.evaluate(X_test, y_test)"
      ],
      "metadata": {
        "colab": {
          "base_uri": "https://localhost:8080/"
        },
        "id": "NsO2OS67DzIg",
        "outputId": "0fa18205-2691-480e-e3ea-16f1520199f1"
      },
      "execution_count": 15,
      "outputs": [
        {
          "output_type": "stream",
          "name": "stdout",
          "text": [
            "469/469 [==============================] - 1s 2ms/step - loss: 0.2598 - accuracy: 0.9278\n"
          ]
        },
        {
          "output_type": "execute_result",
          "data": {
            "text/plain": [
              "[0.25981926918029785, 0.9277999997138977]"
            ]
          },
          "metadata": {},
          "execution_count": 15
        }
      ]
    },
    {
      "cell_type": "markdown",
      "source": [
        "**Посмотрим результаты**"
      ],
      "metadata": {
        "id": "Q0_zK8CXNahI"
      }
    },
    {
      "cell_type": "code",
      "source": [
        "y_test[1010]"
      ],
      "metadata": {
        "colab": {
          "base_uri": "https://localhost:8080/"
        },
        "id": "dVvBQH_aD2hj",
        "outputId": "00af6331-2377-4660-83eb-41759b738e82"
      },
      "execution_count": 16,
      "outputs": [
        {
          "output_type": "execute_result",
          "data": {
            "text/plain": [
              "array([0., 0., 0., 0., 1., 0., 0., 0., 0., 0.])"
            ]
          },
          "metadata": {},
          "execution_count": 16
        }
      ]
    },
    {
      "cell_type": "code",
      "source": [
        "plot_image(X_test[1010])"
      ],
      "metadata": {
        "colab": {
          "base_uri": "https://localhost:8080/",
          "height": 430
        },
        "id": "IwG8-gsiEBMu",
        "outputId": "accce07d-d199-4e34-b676-7215b43b2b4c"
      },
      "execution_count": 17,
      "outputs": [
        {
          "output_type": "display_data",
          "data": {
            "text/plain": [
              "<Figure size 640x480 with 1 Axes>"
            ],
            "image/png": "[encoded data removed]"
          },
          "metadata": {}
        }
      ]
    },
    {
      "cell_type": "code",
      "source": [
        "predicted_results = model.predict(X_test[1010].reshape((1, -1)))"
      ],
      "metadata": {
        "colab": {
          "base_uri": "https://localhost:8080/"
        },
        "id": "_3nFcKz9EDUp",
        "outputId": "9b83d0ff-784e-4d5a-d9c0-8747ef5cf77a"
      },
      "execution_count": 18,
      "outputs": [
        {
          "output_type": "stream",
          "name": "stdout",
          "text": [
            "1/1 [==============================] - 0s 189ms/step\n"
          ]
        }
      ]
    },
    {
      "cell_type": "code",
      "source": [
        "predicted_results.sum()"
      ],
      "metadata": {
        "colab": {
          "base_uri": "https://localhost:8080/"
        },
        "id": "Z3qko5qaEFuP",
        "outputId": "ede7bdb8-f06e-48e1-c526-648abc955666"
      },
      "execution_count": 19,
      "outputs": [
        {
          "output_type": "execute_result",
          "data": {
            "text/plain": [
              "1.0000001"
            ]
          },
          "metadata": {},
          "execution_count": 19
        }
      ]
    },
    {
      "cell_type": "markdown",
      "source": [
        "**Чтение вывода слоя softmax для конкретной цифры**"
      ],
      "metadata": {
        "id": "KwRckm3ANghb"
      }
    },
    {
      "cell_type": "code",
      "source": [
        "predicted_results"
      ],
      "metadata": {
        "colab": {
          "base_uri": "https://localhost:8080/"
        },
        "id": "z4cGAdkeEHEl",
        "outputId": "9ac11ffe-c8e4-4731-e79f-b5f6957de5c0"
      },
      "execution_count": 20,
      "outputs": [
        {
          "output_type": "execute_result",
          "data": {
            "text/plain": [
              "array([[4.8213544e-05, 5.1497770e-03, 8.1728934e-04, 2.7710248e-03,\n",
              "        8.7488991e-01, 1.7284725e-02, 3.6862490e-03, 1.1289958e-02,\n",
              "        4.1336954e-02, 4.2725999e-02]], dtype=float32)"
            ]
          },
          "metadata": {},
          "execution_count": 20
        }
      ]
    },
    {
      "cell_type": "markdown",
      "source": [
        "**Просмотр матрицы ошибок**"
      ],
      "metadata": {
        "id": "GeBmvgRgNiMQ"
      }
    },
    {
      "cell_type": "code",
      "source": [
        "predicted_outputs = np.argmax(model.predict(X_test), axis=1)\n",
        "expected_outputs = np.argmax(y_test, axis=1)\n",
        "\n",
        "predicted_confusion_matrix = confusion_matrix(expected_outputs, predicted_outputs)\n",
        "predicted_confusion_matrix"
      ],
      "metadata": {
        "colab": {
          "base_uri": "https://localhost:8080/"
        },
        "id": "mugbfr0vEI5h",
        "outputId": "f2ee2b4e-7928-4b16-f711-d33a3ce310fc"
      },
      "execution_count": 21,
      "outputs": [
        {
          "output_type": "stream",
          "name": "stdout",
          "text": [
            "469/469 [==============================] - 2s 4ms/step\n"
          ]
        },
        {
          "output_type": "execute_result",
          "data": {
            "text/plain": [
              "array([[1425,    0,    2,    2,    3,    8,    4,    3,   10,    1],\n",
              "       [   0, 1621,   10,    5,    2,    4,    3,    7,   16,    1],\n",
              "       [  14,   17, 1398,   14,   27,    6,   17,   19,   29,    6],\n",
              "       [   6,    7,   33, 1375,    2,   55,    5,   16,   20,   11],\n",
              "       [   1,    1,   13,    2, 1302,    1,   10,    2,    9,   57],\n",
              "       [  14,   12,    8,   32,   14, 1184,   26,    7,   22,   17],\n",
              "       [  10,    1,    8,    1,   17,   25, 1404,    0,    5,    0],\n",
              "       [   4,   11,   16,    3,   16,    2,    0, 1483,    1,   38],\n",
              "       [  13,   23,   15,   42,    7,   37,   12,    2, 1361,   15],\n",
              "       [   7,    5,    6,   18,   42,    5,    0,   35,    8, 1364]])"
            ]
          },
          "metadata": {},
          "execution_count": 21
        }
      ]
    },
    {
      "cell_type": "markdown",
      "source": [
        "**Визуализируем данные**"
      ],
      "metadata": {
        "id": "TxxkxUF9Nkqe"
      }
    },
    {
      "cell_type": "code",
      "source": [
        "def plot_confusion_matrix(cm, classes,\n",
        "                          title='Confusion matrix',\n",
        "                          cmap=plt.cm.Blues):\n",
        "    \"\"\"\n",
        "    This function prints and plots the confusion matrix.\n",
        "    Normalization can be applied by setting `normalize=True`.\n",
        "    \"\"\"\n",
        "\n",
        "    plt.imshow(cm, interpolation='nearest', cmap=cmap)\n",
        "    plt.title(title)\n",
        "    plt.colorbar()\n",
        "    tick_marks = np.arange(len(classes))\n",
        "    plt.xticks(tick_marks, classes, rotation=45)\n",
        "    plt.yticks(tick_marks, classes)\n",
        "\n",
        "    fmt = 'd'\n",
        "    thresh = cm.max() / 2.\n",
        "    for i, j in itertools.product(range(cm.shape[0]), range(cm.shape[1])):\n",
        "        plt.text(j, i, format(cm[i, j], fmt),\n",
        "                 horizontalalignment=\"center\",\n",
        "                 color=\"white\" if cm[i, j] > thresh else \"black\")\n",
        "\n",
        "    plt.ylabel('True label')\n",
        "    plt.xlabel('Predicted label')\n",
        "    plt.tight_layout()\n",
        "\n",
        "\n",
        "# Compute confusion matrix\n",
        "class_names = [str(idx) for idx in range(10)]\n",
        "cnf_matrix = confusion_matrix(expected_outputs, predicted_outputs)\n",
        "np.set_printoptions(precision=2)\n",
        "\n",
        "# Plot non-normalized confusion matrix\n",
        "plt.figure()\n",
        "plot_confusion_matrix(cnf_matrix, classes=class_names,\n",
        "                      title='Confusion matrix, without normalization')\n",
        "\n",
        "plt.show()"
      ],
      "metadata": {
        "colab": {
          "base_uri": "https://localhost:8080/",
          "height": 487
        },
        "id": "T8YZtE4iERa9",
        "outputId": "3418029b-fbb1-4c49-ddaa-05aaaee62c7a"
      },
      "execution_count": 22,
      "outputs": [
        {
          "output_type": "display_data",
          "data": {
            "text/plain": [
              "<Figure size 640x480 with 2 Axes>"
            ],
            "image/png": "[encoded data removed]"
          },
          "metadata": {}
        }
      ]
    },
    {
      "cell_type": "code",
      "source": [],
      "metadata": {
        "id": "Jzewu_VsEVbb"
      },
      "execution_count": null,
      "outputs": []
    }
  ]
}